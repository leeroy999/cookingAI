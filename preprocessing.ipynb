{
 "cells": [
  {
   "cell_type": "markdown",
   "metadata": {},
   "source": [
    "# Recipes dataset preprocessing\n"
   ]
  },
  {
   "cell_type": "code",
   "execution_count": 1,
   "metadata": {},
   "outputs": [],
   "source": [
    "import numpy as np\n",
    "import pandas as pd\n",
    "from annoy import AnnoyIndex"
   ]
  },
  {
   "cell_type": "code",
   "execution_count": 2,
   "metadata": {},
   "outputs": [],
   "source": [
    "db_recipes = pd.read_csv('data/01_Recipe_Details.csv')\n",
    "db_details = pd.read_csv('data/04_Recipe-Ingredients_Aliases.csv')"
   ]
  },
  {
   "cell_type": "code",
   "execution_count": 3,
   "metadata": {},
   "outputs": [],
   "source": [
    "ingredients = [ingr.strip() for ingr in db_details['Aliased Ingredient Name'].unique()]\n",
    "num_dims = len(ingredients)\n",
    "dict_ingredients = {name : id for name, id in zip(ingredients, range(num_dims))}"
   ]
  },
  {
   "cell_type": "code",
   "execution_count": 27,
   "metadata": {},
   "outputs": [],
   "source": [
    "num_recipes = len(db_recipes)\n",
    "vectors_ingr = []\n",
    "for id in range(num_recipes):\n",
    "    recipe_ingr = [ingr.strip() for ingr in db_details[db_details['Recipe ID'] == id + 1]['Aliased Ingredient Name']]\n",
    "    v = [1 if ingr in recipe_ingr else 0 for ingr in ingredients]\n",
    "    vectors_ingr.append(v)"
   ]
  },
  {
   "cell_type": "code",
   "execution_count": 25,
   "metadata": {},
   "outputs": [
    {
     "data": {
      "text/plain": [
       "True"
      ]
     },
     "execution_count": 25,
     "metadata": {},
     "output_type": "execute_result"
    }
   ],
   "source": [
    "t = AnnoyIndex(num_dims, 'euclidean')\n",
    "for id in range(num_recipes):\n",
    "    t.add_item(id, vectors_ingr[id])\n",
    "t.build(40)\n",
    "t.save('base.tree')"
   ]
  },
  {
   "cell_type": "code",
   "execution_count": 24,
   "metadata": {},
   "outputs": [
    {
     "name": "stdout",
     "output_type": "stream",
     "text": [
      "achaari dip (8) ingr | Common Ingredients: 6 | Dist: 5.0\n",
      "dill khakhra with aachari dip (10) ingr | Common Ingredients: 7 | Dist: 5.0\n",
      "instant handva (4) ingr | Common Ingredients: 4 | Dist: 5.0\n"
     ]
    }
   ],
   "source": [
    "rec_id = 1\n",
    "rec_ingr = list(db_details[db_details['Recipe ID'] == rec_id + 1]['Aliased Ingredient Name'])\n",
    "\n",
    "neighbors = t.get_nns_by_item(rec_id, 10)\n",
    "\n",
    "meand = np.mean([t.get_distance(rec_id, x) for x in neighbors if x != rec_id])\n",
    "\n",
    "for x in neighbors:\n",
    "    if x != rec_id and t.get_distance(rec_id, x) <= meand:\n",
    "        name = list(db_recipes[db_recipes['Recipe ID'] == x + 1]['Title'])[0]\n",
    "        ingr = list(db_details[db_details['Recipe ID'] == x + 1]['Aliased Ingredient Name'])\n",
    "        n_common = len([x for x in rec_ingr if x in ingr])\n",
    "        dist = t.get_distance(rec_id, x)\n",
    "        print(name, '({}) ingr'.format(len(ingr)), '| Common Ingredients:', n_common, '| Dist:', dist)"
   ]
  },
  {
   "cell_type": "code",
   "execution_count": 105,
   "metadata": {},
   "outputs": [
    {
     "data": {
      "text/html": [
       "<div>\n",
       "<style scoped>\n",
       "    .dataframe tbody tr th:only-of-type {\n",
       "        vertical-align: middle;\n",
       "    }\n",
       "\n",
       "    .dataframe tbody tr th {\n",
       "        vertical-align: top;\n",
       "    }\n",
       "\n",
       "    .dataframe thead th {\n",
       "        text-align: right;\n",
       "    }\n",
       "</style>\n",
       "<table border=\"1\" class=\"dataframe\">\n",
       "  <thead>\n",
       "    <tr style=\"text-align: right;\">\n",
       "      <th></th>\n",
       "      <th>Recipe ID</th>\n",
       "      <th>Original Ingredient Name</th>\n",
       "      <th>Aliased Ingredient Name</th>\n",
       "      <th>Entity ID</th>\n",
       "    </tr>\n",
       "  </thead>\n",
       "  <tbody>\n",
       "    <tr>\n",
       "      <th>0</th>\n",
       "      <td>1</td>\n",
       "      <td>capsicum</td>\n",
       "      <td>capsicum</td>\n",
       "      <td>362</td>\n",
       "    </tr>\n",
       "    <tr>\n",
       "      <th>1</th>\n",
       "      <td>1</td>\n",
       "      <td>green bell pepper</td>\n",
       "      <td>pepper bell</td>\n",
       "      <td>362</td>\n",
       "    </tr>\n",
       "    <tr>\n",
       "      <th>2</th>\n",
       "      <td>1</td>\n",
       "      <td>soy sauce</td>\n",
       "      <td>soy sauce</td>\n",
       "      <td>291</td>\n",
       "    </tr>\n",
       "    <tr>\n",
       "      <th>3</th>\n",
       "      <td>1</td>\n",
       "      <td>sunflower oil</td>\n",
       "      <td>sunflower</td>\n",
       "      <td>426</td>\n",
       "    </tr>\n",
       "    <tr>\n",
       "      <th>4</th>\n",
       "      <td>2</td>\n",
       "      <td>buttermilk</td>\n",
       "      <td>buttermilk</td>\n",
       "      <td>61</td>\n",
       "    </tr>\n",
       "    <tr>\n",
       "      <th>...</th>\n",
       "      <td>...</td>\n",
       "      <td>...</td>\n",
       "      <td>...</td>\n",
       "      <td>...</td>\n",
       "    </tr>\n",
       "    <tr>\n",
       "      <th>456274</th>\n",
       "      <td>45772</td>\n",
       "      <td>1/2 tsp salt</td>\n",
       "      <td>salt</td>\n",
       "      <td>778</td>\n",
       "    </tr>\n",
       "    <tr>\n",
       "      <th>456275</th>\n",
       "      <td>45772</td>\n",
       "      <td>1 yellow squash, diced</td>\n",
       "      <td>squash yellow</td>\n",
       "      <td>493</td>\n",
       "    </tr>\n",
       "    <tr>\n",
       "      <th>456276</th>\n",
       "      <td>45772</td>\n",
       "      <td>1/2 tsp dried thyme</td>\n",
       "      <td>thyme</td>\n",
       "      <td>269</td>\n",
       "    </tr>\n",
       "    <tr>\n",
       "      <th>456277</th>\n",
       "      <td>45772</td>\n",
       "      <td>1 tsp Worcestershire sauce</td>\n",
       "      <td>worcestershire sauce</td>\n",
       "      <td>2031</td>\n",
       "    </tr>\n",
       "    <tr>\n",
       "      <th>456278</th>\n",
       "      <td>45772</td>\n",
       "      <td>1 small zucchini, diced</td>\n",
       "      <td>zucchini</td>\n",
       "      <td>969</td>\n",
       "    </tr>\n",
       "  </tbody>\n",
       "</table>\n",
       "<p>456279 rows × 4 columns</p>\n",
       "</div>"
      ],
      "text/plain": [
       "        Recipe ID    Original Ingredient Name Aliased Ingredient Name  \\\n",
       "0               1                    capsicum               capsicum    \n",
       "1               1           green bell pepper            pepper bell    \n",
       "2               1                   soy sauce              soy sauce    \n",
       "3               1               sunflower oil              sunflower    \n",
       "4               2                  buttermilk             buttermilk    \n",
       "...           ...                         ...                     ...   \n",
       "456274      45772                1/2 tsp salt                   salt    \n",
       "456275      45772      1 yellow squash, diced          squash yellow    \n",
       "456276      45772         1/2 tsp dried thyme                  thyme    \n",
       "456277      45772  1 tsp Worcestershire sauce   worcestershire sauce    \n",
       "456278      45772     1 small zucchini, diced               zucchini    \n",
       "\n",
       "        Entity ID  \n",
       "0             362  \n",
       "1             362  \n",
       "2             291  \n",
       "3             426  \n",
       "4              61  \n",
       "...           ...  \n",
       "456274        778  \n",
       "456275        493  \n",
       "456276        269  \n",
       "456277       2031  \n",
       "456278        969  \n",
       "\n",
       "[456279 rows x 4 columns]"
      ]
     },
     "execution_count": 105,
     "metadata": {},
     "output_type": "execute_result"
    }
   ],
   "source": [
    "db_details"
   ]
  }
 ],
 "metadata": {
  "kernelspec": {
   "display_name": "Python 3.10.6 64-bit",
   "language": "python",
   "name": "python3"
  },
  "language_info": {
   "codemirror_mode": {
    "name": "ipython",
    "version": 3
   },
   "file_extension": ".py",
   "mimetype": "text/x-python",
   "name": "python",
   "nbconvert_exporter": "python",
   "pygments_lexer": "ipython3",
   "version": "3.10.6"
  },
  "orig_nbformat": 4,
  "vscode": {
   "interpreter": {
    "hash": "e02b4aeb2dd8ee6924fbd3d52280d846339c6f673292abaa9acb55a837ef209d"
   }
  }
 },
 "nbformat": 4,
 "nbformat_minor": 2
}
