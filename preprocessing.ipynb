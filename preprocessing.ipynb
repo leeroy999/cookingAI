{
 "cells": [
  {
   "cell_type": "markdown",
   "metadata": {},
   "source": [
    "# Recipes dataset preprocessing"
   ]
  },
  {
   "cell_type": "markdown",
   "metadata": {},
   "source": [
    "## Importing dependencies and datasets"
   ]
  },
  {
   "cell_type": "code",
   "execution_count": null,
   "metadata": {},
   "outputs": [],
   "source": [
    "import numpy as np\n",
    "import pandas as pd\n",
    "from annoy import AnnoyIndex\n",
    "\n",
    "db_recipes = pd.read_csv('data/01_Recipe_Details.csv')\n",
    "db_details = pd.read_csv('data/04_Recipe-Ingredients_Aliases.csv')"
   ]
  },
  {
   "cell_type": "code",
   "execution_count": null,
   "metadata": {},
   "outputs": [],
   "source": [
    "ingredients = [ingr.strip() for ingr in db_details['Aliased Ingredient Name'].unique()]\n",
    "num_dims = len(ingredients)\n",
    "dict_ingredients = {name : id for name, id in zip(ingredients, range(num_dims))}"
   ]
  },
  {
   "cell_type": "markdown",
   "metadata": {},
   "source": [
    "## Creating vector encoding for each recipe"
   ]
  },
  {
   "cell_type": "code",
   "execution_count": null,
   "metadata": {},
   "outputs": [],
   "source": [
    "num_recipes = len(db_recipes)\n",
    "vectors_ingr = []\n",
    "for id in range(num_recipes):\n",
    "    recipe_ingr = [ingr.strip() for ingr in db_details[db_details['Recipe ID'] == id + 1]['Aliased Ingredient Name']]\n",
    "    v = [1 if ingr in recipe_ingr else 0 for ingr in ingredients]\n",
    "    vectors_ingr.append(v)"
   ]
  },
  {
   "cell_type": "markdown",
   "metadata": {},
   "source": [
    "## Creating the Annoy distances tree"
   ]
  },
  {
   "cell_type": "code",
   "execution_count": null,
   "metadata": {},
   "outputs": [],
   "source": [
    "t = AnnoyIndex(num_dims, 'euclidean')\n",
    "for id in range(num_recipes):\n",
    "    t.add_item(id, vectors_ingr[id])\n",
    "t.build(40)\n",
    "t.save('base.tree')"
   ]
  },
  {
   "cell_type": "markdown",
   "metadata": {},
   "source": [
    "## Testing code"
   ]
  },
  {
   "cell_type": "code",
   "execution_count": null,
   "metadata": {},
   "outputs": [],
   "source": [
    "rec_id = 1\n",
    "rec_ingr = list(db_details[db_details['Recipe ID'] == rec_id + 1]['Aliased Ingredient Name'])\n",
    "\n",
    "neighbors = t.get_nns_by_item(rec_id, 10)\n",
    "\n",
    "meand = np.mean([t.get_distance(rec_id, x) for x in neighbors if x != rec_id])\n",
    "\n",
    "for x in neighbors:\n",
    "    if x != rec_id and t.get_distance(rec_id, x) <= meand:\n",
    "        name = list(db_recipes[db_recipes['Recipe ID'] == x + 1]['Title'])[0]\n",
    "        ingr = list(db_details[db_details['Recipe ID'] == x + 1]['Aliased Ingredient Name'])\n",
    "        n_common = len([x for x in rec_ingr if x in ingr])\n",
    "        dist = t.get_distance(rec_id, x)\n",
    "        print(name, '({}) ingr'.format(len(ingr)), '| Common Ingredients:', n_common, '| Dist:', dist)"
   ]
  }
 ],
 "metadata": {
  "kernelspec": {
   "display_name": "Python 3.10.6 64-bit",
   "language": "python",
   "name": "python3"
  },
  "language_info": {
   "codemirror_mode": {
    "name": "ipython",
    "version": 3
   },
   "file_extension": ".py",
   "mimetype": "text/x-python",
   "name": "python",
   "nbconvert_exporter": "python",
   "pygments_lexer": "ipython3",
   "version": "3.10.6"
  },
  "orig_nbformat": 4,
  "vscode": {
   "interpreter": {
    "hash": "e02b4aeb2dd8ee6924fbd3d52280d846339c6f673292abaa9acb55a837ef209d"
   }
  }
 },
 "nbformat": 4,
 "nbformat_minor": 2
}
